{
  "nbformat": 4,
  "nbformat_minor": 0,
  "metadata": {
    "colab": {
      "provenance": []
    },
    "kernelspec": {
      "name": "python3",
      "display_name": "Python 3"
    },
    "language_info": {
      "name": "python"
    }
  },
  "cells": [
    {
      "cell_type": "code",
      "execution_count": 1,
      "metadata": {
        "colab": {
          "base_uri": "https://localhost:8080/"
        },
        "id": "Bv2LIwaXCB5o",
        "outputId": "2cd05c39-249b-47df-8d52-4ac072753362"
      },
      "outputs": [
        {
          "output_type": "stream",
          "name": "stdout",
          "text": [
            "<class 'list'>\n"
          ]
        }
      ],
      "source": [
        "print(type([]))"
      ]
    },
    {
      "cell_type": "code",
      "source": [
        "class sample:\n",
        "  pass"
      ],
      "metadata": {
        "id": "6YiW-nFKCzQl"
      },
      "execution_count": 2,
      "outputs": []
    },
    {
      "cell_type": "code",
      "source": [
        "x = sample()"
      ],
      "metadata": {
        "id": "A4EXcsHGDHfs"
      },
      "execution_count": 3,
      "outputs": []
    },
    {
      "cell_type": "code",
      "source": [
        "print(type(x))"
      ],
      "metadata": {
        "colab": {
          "base_uri": "https://localhost:8080/"
        },
        "id": "r28gApOVDHqG",
        "outputId": "b175b68b-a267-4899-d715-c1350b15e892"
      },
      "execution_count": 4,
      "outputs": [
        {
          "output_type": "stream",
          "name": "stdout",
          "text": [
            "<class '__main__.sample'>\n"
          ]
        }
      ]
    },
    {
      "cell_type": "code",
      "source": [
        "class Dog:\n",
        "  def __init__(self,breed):\n",
        "    self.breed = breed"
      ],
      "metadata": {
        "id": "z0rnTRpxDllM"
      },
      "execution_count": 5,
      "outputs": []
    },
    {
      "cell_type": "code",
      "source": [
        "tommy = Dog(breed='lab')\n",
        "tision = Dog(breed='huskie')"
      ],
      "metadata": {
        "id": "nE_BxbanDlr3"
      },
      "execution_count": 6,
      "outputs": []
    },
    {
      "cell_type": "code",
      "source": [
        "tommy.breed\n"
      ],
      "metadata": {
        "colab": {
          "base_uri": "https://localhost:8080/",
          "height": 35
        },
        "id": "OGBcHPTuE2Py",
        "outputId": "a1c15f9a-d804-4e4f-8d34-3acc0fbedb52"
      },
      "execution_count": 7,
      "outputs": [
        {
          "output_type": "execute_result",
          "data": {
            "text/plain": [
              "'lab'"
            ],
            "application/vnd.google.colaboratory.intrinsic+json": {
              "type": "string"
            }
          },
          "metadata": {},
          "execution_count": 7
        }
      ]
    },
    {
      "cell_type": "code",
      "source": [
        "tision.breed"
      ],
      "metadata": {
        "colab": {
          "base_uri": "https://localhost:8080/",
          "height": 35
        },
        "id": "dZ2i_TomE2kG",
        "outputId": "8f61a2a6-2934-4071-a4de-86e7867c7d6f"
      },
      "execution_count": 8,
      "outputs": [
        {
          "output_type": "execute_result",
          "data": {
            "text/plain": [
              "'huskie'"
            ],
            "application/vnd.google.colaboratory.intrinsic+json": {
              "type": "string"
            }
          },
          "metadata": {},
          "execution_count": 8
        }
      ]
    },
    {
      "cell_type": "code",
      "source": [
        "class Dog:\n",
        "  species = 'Mammal'\n",
        "  def __init__(self,breed,name):\n",
        "    self.breed = breed\n",
        "    self.name = name\n",
        "\n",
        "\n"
      ],
      "metadata": {
        "id": "dF6nO589FTAB"
      },
      "execution_count": 9,
      "outputs": []
    },
    {
      "cell_type": "code",
      "source": [
        "my_dog = Dog('lab','jerry')"
      ],
      "metadata": {
        "id": "yFisQz7hFt0Y"
      },
      "execution_count": 10,
      "outputs": []
    },
    {
      "cell_type": "code",
      "source": [
        "my_dog.name"
      ],
      "metadata": {
        "colab": {
          "base_uri": "https://localhost:8080/",
          "height": 35
        },
        "id": "o89UtZ-dF4Kf",
        "outputId": "7751516a-62ec-4da7-ea30-0c8c8b8a5620"
      },
      "execution_count": 11,
      "outputs": [
        {
          "output_type": "execute_result",
          "data": {
            "text/plain": [
              "'jerry'"
            ],
            "application/vnd.google.colaboratory.intrinsic+json": {
              "type": "string"
            }
          },
          "metadata": {},
          "execution_count": 11
        }
      ]
    },
    {
      "cell_type": "code",
      "source": [
        "my_dog.breed"
      ],
      "metadata": {
        "colab": {
          "base_uri": "https://localhost:8080/",
          "height": 35
        },
        "id": "BSks52BSF4gp",
        "outputId": "429c1e59-2ff6-4bf1-c0ff-678fd7959149"
      },
      "execution_count": 12,
      "outputs": [
        {
          "output_type": "execute_result",
          "data": {
            "text/plain": [
              "'lab'"
            ],
            "application/vnd.google.colaboratory.intrinsic+json": {
              "type": "string"
            }
          },
          "metadata": {},
          "execution_count": 12
        }
      ]
    },
    {
      "cell_type": "code",
      "source": [
        "class Account:\n",
        "  def __init__(self,owner,balance=0):\n",
        "    self.owner = owner\n",
        "    self.balance = balance\n",
        "\n",
        "  def __str__(self):\n",
        "    return f'Account owner:      {self.owner}\\nAccount balance:        ${self.balance}'\n",
        "\n",
        "  def deposit(self,dep_amt):\n",
        "    self.balance += dep_amt\n",
        "    print(\"Deposit Accepted\")\n",
        "\n",
        "  def withdraw(self,wd_amt):\n",
        "    if self.balance>= wd_amt:\n",
        "       self.balance -= wd_amt\n",
        "       print(\"Withdraw Accepted\")\n",
        "\n",
        "    else:\n",
        "      print(\"Funds Unavailable\") \n",
        "\n"
      ],
      "metadata": {
        "id": "ZbLsud5nGO0o"
      },
      "execution_count": 20,
      "outputs": []
    },
    {
      "cell_type": "code",
      "source": [
        "acc1 = Account('Anuj',20000)"
      ],
      "metadata": {
        "id": "-hiGewOFIOSd"
      },
      "execution_count": 21,
      "outputs": []
    },
    {
      "cell_type": "code",
      "source": [
        "print(acc1)"
      ],
      "metadata": {
        "colab": {
          "base_uri": "https://localhost:8080/"
        },
        "id": "sNG7L2bplmhF",
        "outputId": "1a956c25-1a1e-485e-add3-5f1fd4d95efc"
      },
      "execution_count": 22,
      "outputs": [
        {
          "output_type": "stream",
          "name": "stdout",
          "text": [
            "Account owner:      Anuj\n",
            "Account balance:        $20000\n"
          ]
        }
      ]
    },
    {
      "cell_type": "code",
      "source": [
        "acc1.owner"
      ],
      "metadata": {
        "colab": {
          "base_uri": "https://localhost:8080/",
          "height": 35
        },
        "id": "S36jFP8JlMXX",
        "outputId": "44764f24-c02a-41d3-a85c-511a5330af40"
      },
      "execution_count": 23,
      "outputs": [
        {
          "output_type": "execute_result",
          "data": {
            "text/plain": [
              "'Anuj'"
            ],
            "application/vnd.google.colaboratory.intrinsic+json": {
              "type": "string"
            }
          },
          "metadata": {},
          "execution_count": 23
        }
      ]
    },
    {
      "cell_type": "code",
      "source": [
        "acc1.balance"
      ],
      "metadata": {
        "colab": {
          "base_uri": "https://localhost:8080/"
        },
        "id": "BEdgJJpUmpgh",
        "outputId": "ddfe623d-5779-4743-c800-6ad9e202c231"
      },
      "execution_count": 24,
      "outputs": [
        {
          "output_type": "execute_result",
          "data": {
            "text/plain": [
              "20000"
            ]
          },
          "metadata": {},
          "execution_count": 24
        }
      ]
    },
    {
      "cell_type": "code",
      "source": [
        "acc1.deposit(500)"
      ],
      "metadata": {
        "colab": {
          "base_uri": "https://localhost:8080/"
        },
        "id": "yeBfg8zXmpj4",
        "outputId": "5261fe79-3216-46a0-97fc-70f583d26c35"
      },
      "execution_count": 25,
      "outputs": [
        {
          "output_type": "stream",
          "name": "stdout",
          "text": [
            "Deposit Accepted\n"
          ]
        }
      ]
    },
    {
      "cell_type": "code",
      "source": [
        "acc1.withdraw(30000)"
      ],
      "metadata": {
        "colab": {
          "base_uri": "https://localhost:8080/"
        },
        "id": "TsD0FD7bosEu",
        "outputId": "71d2cf0c-6a9c-4f21-bb74-f9cd6118fbd7"
      },
      "execution_count": 26,
      "outputs": [
        {
          "output_type": "stream",
          "name": "stdout",
          "text": [
            "Funds Unavailable\n"
          ]
        }
      ]
    },
    {
      "cell_type": "code",
      "source": [
        "acc1.withdraw(10000)"
      ],
      "metadata": {
        "colab": {
          "base_uri": "https://localhost:8080/"
        },
        "id": "GGexfVXaosOm",
        "outputId": "5086ef65-b0f3-4c4b-e45b-1091b699fedc"
      },
      "execution_count": 27,
      "outputs": [
        {
          "output_type": "stream",
          "name": "stdout",
          "text": [
            "Withdraw Accepted\n"
          ]
        }
      ]
    }
  ]
}